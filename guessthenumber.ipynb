{
 "cells": [
  {
   "cell_type": "code",
   "execution_count": 1,
   "metadata": {},
   "outputs": [
    {
     "name": "stdout",
     "output_type": "stream",
     "text": [
      "Welcome to Guess the Number!\n",
      "I'm thinking of a number between 1 and 100. Can you guess it?\n",
      "Too low! Try again.\n",
      "Too low! Try again.\n",
      "Too low! Try again.\n",
      "Too low! Try again.\n",
      "Too low! Try again.\n",
      "Too high! Try again.\n",
      "Too high! Try again.\n",
      "Too high! Try again.\n",
      "Too high! Try again.\n",
      "Congratulations! You guessed the number 43 in 10 attempts.\n"
     ]
    }
   ],
   "source": [
    "import random\n",
    "\n",
    "def guess_the_number():\n",
    "    secret_number = random.randint(1, 100)\n",
    "    attempts = 0\n",
    "\n",
    "    print(\"Welcome to Guess the Number!\")\n",
    "    print(\"I'm thinking of a number between 1 and 100. Can you guess it?\")\n",
    "\n",
    "    while True:\n",
    "        guess = int(input(\"Enter your guess: \"))\n",
    "        attempts += 1\n",
    "\n",
    "        if guess < secret_number:\n",
    "            print(\"Too low! Try again.\")\n",
    "        elif guess > secret_number:\n",
    "            print(\"Too high! Try again.\")\n",
    "        else:\n",
    "            print(f\"Congratulations! You guessed the number {secret_number} in {attempts} attempts.\")\n",
    "            break\n",
    "\n",
    "if __name__ == \"__main__\":\n",
    "    guess_the_number()\n"
   ]
  }
 ],
 "metadata": {
  "kernelspec": {
   "display_name": "Python 3",
   "language": "python",
   "name": "python3"
  },
  "language_info": {
   "codemirror_mode": {
    "name": "ipython",
    "version": 3
   },
   "file_extension": ".py",
   "mimetype": "text/x-python",
   "name": "python",
   "nbconvert_exporter": "python",
   "pygments_lexer": "ipython3",
   "version": "3.11.1"
  },
  "orig_nbformat": 4
 },
 "nbformat": 4,
 "nbformat_minor": 2
}
